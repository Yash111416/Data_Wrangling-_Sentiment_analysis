{
  "nbformat": 4,
  "nbformat_minor": 0,
  "metadata": {
    "colab": {
      "provenance": [],
      "gpuType": "T4"
    },
    "kernelspec": {
      "name": "python3",
      "display_name": "Python 3"
    },
    "language_info": {
      "name": "python"
    },
    "accelerator": "GPU"
  },
  "cells": [
    {
      "cell_type": "code",
      "source": [
        "from google.colab import drive\n",
        "\n",
        "# Mount Google Drive\n",
        "drive.mount('/content/gdrive', force_remount=True)"
      ],
      "metadata": {
        "colab": {
          "base_uri": "https://localhost:8080/"
        },
        "id": "uTYX1Dy24odA",
        "outputId": "b42a30f4-bb34-474e-a307-47d77f7151a9"
      },
      "execution_count": 8,
      "outputs": [
        {
          "output_type": "stream",
          "name": "stdout",
          "text": [
            "Mounted at /content/gdrive\n"
          ]
        }
      ]
    },
    {
      "cell_type": "code",
      "source": [
        "import pandas as pd\n",
        "import os\n",
        "import nltk\n",
        "import pandas as pd\n",
        "import numpy as np\n",
        "import string\n",
        "import warnings\n",
        "import re\n",
        "warnings.filterwarnings('ignore')\n"
      ],
      "metadata": {
        "id": "QHoQ6Bc-6MaJ"
      },
      "execution_count": 87,
      "outputs": []
    },
    {
      "cell_type": "code",
      "source": [
        "import requests\n",
        "from bs4 import BeautifulSoup\n",
        "import openpyxl\n",
        "\n",
        "# Load the Excel file\n",
        "input_workbook = openpyxl.load_workbook('Input.xlsx')\n",
        "input_sheet = input_workbook.active\n",
        "\n",
        "# Iterate through each row in the Excel file\n",
        "for row in input_sheet.iter_rows(min_row=2, values_only=True):\n",
        "    url_id, url = row\n",
        "    response = requests.get(url)\n",
        "    if response.status_code == 200:\n",
        "        soup = BeautifulSoup(response.text, 'html.parser')\n",
        "        article_title = soup.find('h1').text\n",
        "\n",
        "        # Check for different div classes\n",
        "        article_div = soup.find('div', class_='td-post-content tagdiv-type') or soup.find('div', class_=\"td_block_wrap tdb_single_content tdi_130 td-pb-border-top td_block_template_1 td-post-content tagdiv-type\") or soup.find('p')\n",
        "\n",
        "        # Extract article text\n",
        "        article_text = article_title + '\\n\\n' + article_div.get_text()\n",
        "\n",
        "        # Save the article text to a text file in Google Drive\n",
        "        file_name = '/content/gdrive/MyDrive/Blackcoffer/Text Directory/' + str(url_id) + '.txt'\n",
        "        with open(file_name, 'w') as file:\n",
        "          file.write(article_text)\n",
        "\n",
        "    else:\n",
        "        print(f\"Failed to retrieve content from {url_id}\")\n",
        "\n",
        "# Close the input workbook\n",
        "input_workbook.close()\n"
      ],
      "metadata": {
        "colab": {
          "base_uri": "https://localhost:8080/"
        },
        "id": "TRZbExct1Q3i",
        "outputId": "f5e07373-25bb-45c3-c339-e47ec2193b0d"
      },
      "execution_count": 103,
      "outputs": [
        {
          "output_type": "stream",
          "name": "stdout",
          "text": [
            "Failed to retrieve content from 11668.0\n",
            "Failed to retrieve content from 17671.4\n"
          ]
        }
      ]
    },
    {
      "cell_type": "code",
      "source": [
        "# The code defines a function called `generate_stopwords()` that reads multiple text files and extracts the stopwords from them.\n",
        "def generate_stopwords():\n",
        "    parent_path = \"/content/gdrive/MyDrive/Blackcoffer/StopWords/StopWords_\"\n",
        "    child_paths = ['Auditor', 'Currencies', 'DatesandNumbers','Generic', 'GenericLong', 'Geographic', 'Names']\n",
        "    words = []\n",
        "    for child in child_paths:\n",
        "        text = \"\"\n",
        "        with open(f\"{parent_path}{child}.txt\", 'r', encoding = \"utf-8\", errors = \"ignore\") as f:\n",
        "            words.extend([word for line in f for word in line.split() if word not in ['\\n', '|']])\n",
        "    return words"
      ],
      "metadata": {
        "id": "Se0DZaEcWKZW"
      },
      "execution_count": 104,
      "outputs": []
    },
    {
      "cell_type": "code",
      "source": [
        "# The code is generating a master dictionary by reading text files containing positive and negative words.\n",
        "def generate_MasterDict(stopwords):\n",
        "    parent_path = \"/content/gdrive/MyDrive/Blackcoffer/MasterDictionary/\"\n",
        "    child_paths = ['positive-words', 'negative-words']\n",
        "    words = []\n",
        "    for child in child_paths:\n",
        "        text = \"\"\n",
        "        with open(f\"{parent_path}{child}.txt\", 'r', encoding = \"utf-8\", errors = \"ignore\") as f:\n",
        "            words.append([word for line in f for word in line.split() if word not in stopwords+['\\n', '|']])\n",
        "    return words"
      ],
      "metadata": {
        "id": "AqLvJWOzWY3q"
      },
      "execution_count": 105,
      "outputs": []
    },
    {
      "cell_type": "code",
      "source": [
        "def generate_content(url_id):\n",
        "    text = \"\"\n",
        "    with open(f\"/content/gdrive/MyDrive/Blackcoffer/Text Directory/{url_id}.txt\", 'r', encoding = \"utf-8\", errors = \"ignore\") as f:\n",
        "        text += f.read()\n",
        "    sent = nltk.sent_tokenize(text)\n",
        "    text = text.translate(str.maketrans('','',string.punctuation))\n",
        "    words = nltk.word_tokenize(text)\n",
        "    words = [w for w in words if w not in stopwords]\n",
        "    return sent, words"
      ],
      "metadata": {
        "id": "20nrJ_PyWiCR"
      },
      "execution_count": 106,
      "outputs": []
    },
    {
      "cell_type": "code",
      "source": [
        "# The `AvgSyllable` function is a Python function that calculates various metrics related to syllables and complexity in a given list of words.\n",
        "\n",
        "def AvgSyllable(words):\n",
        "    plurals = \"aeiouAEIOU\"\n",
        "    total_syallable = 0\n",
        "    complex_words = 0\n",
        "    for w in words:\n",
        "        if not w.endswith(('es', 'ed')):\n",
        "            syallable = sum([1 for c in w if c in plurals])\n",
        "            if(syallable > 2): complex_words += 1\n",
        "            total_syallable += syallable\n",
        "    syllable_per_word = (total_syallable/len(words))\n",
        "    complex_percent = (complex_words)/len(words)\n",
        "    fog_index = 0.4 * (syllable_per_word + complex_percent)\n",
        "    return syllable_per_word,  complex_words, complex_percent, fog_index"
      ],
      "metadata": {
        "id": "V9Q3rieuWuDn"
      },
      "execution_count": 107,
      "outputs": []
    },
    {
      "cell_type": "code",
      "source": [
        "# The code is defining a regular expression pattern `pronounRegex` that matches common pronouns such as \"I\", \"we\", \"my\", \"ours\", and \"us\".\n",
        "# This function calculating the count of pronouns in the given sentence.\n",
        "def Calculate_pronouns(sent):\n",
        "    pronounRegex = re.compile(r'\\b(I|we|my|ours|(?-i:us))\\b',re.I)\n",
        "    pronouns = []\n",
        "    for s in sent:\n",
        "        if s: pronouns.extend(re.findall(pronounRegex, s))\n",
        "    pronouns_count = sum([1 for w in pronouns])\n",
        "    return pronouns_count"
      ],
      "metadata": {
        "id": "2CF1IBFrW9Rb"
      },
      "execution_count": 108,
      "outputs": []
    },
    {
      "cell_type": "code",
      "source": [
        "stopwords = generate_stopwords()\n",
        "MasterWords = generate_MasterDict(stopwords)\n",
        "Pos_words = MasterWords[0]\n",
        "Neg_words = MasterWords[1]\n",
        "df = pd.read_excel(\"/content/gdrive/MyDrive/Blackcoffer/Output Data Structure.xlsx\")\n",
        "df.index = df.URL_ID\n",
        "df.drop([\"URL_ID\"],axis = 1, inplace = True)"
      ],
      "metadata": {
        "id": "c5D5jBmjXA5S"
      },
      "execution_count": 109,
      "outputs": []
    },
    {
      "cell_type": "code",
      "source": [
        "df.head()"
      ],
      "metadata": {
        "colab": {
          "base_uri": "https://localhost:8080/",
          "height": 414
        },
        "id": "rrBjrzUmXr9o",
        "outputId": "8c3f44f3-9975-4732-c32c-2ef769329e08"
      },
      "execution_count": 110,
      "outputs": [
        {
          "output_type": "execute_result",
          "data": {
            "text/plain": [
              "                                                      URL  POSITIVE SCORE  \\\n",
              "URL_ID                                                                      \n",
              "123.0   https://insights.blackcoffer.com/rise-of-telem...             NaN   \n",
              "321.0   https://insights.blackcoffer.com/rise-of-e-hea...             NaN   \n",
              "2345.0  https://insights.blackcoffer.com/rise-of-e-hea...             NaN   \n",
              "4321.0  https://insights.blackcoffer.com/rise-of-telem...             NaN   \n",
              "432.0   https://insights.blackcoffer.com/rise-of-telem...             NaN   \n",
              "\n",
              "        NEGATIVE SCORE  POLARITY SCORE  SUBJECTIVITY SCORE  \\\n",
              "URL_ID                                                       \n",
              "123.0              NaN             NaN                 NaN   \n",
              "321.0              NaN             NaN                 NaN   \n",
              "2345.0             NaN             NaN                 NaN   \n",
              "4321.0             NaN             NaN                 NaN   \n",
              "432.0              NaN             NaN                 NaN   \n",
              "\n",
              "        AVG SENTENCE LENGTH  PERCENTAGE OF COMPLEX WORDS  FOG INDEX  \\\n",
              "URL_ID                                                                \n",
              "123.0                   NaN                          NaN        NaN   \n",
              "321.0                   NaN                          NaN        NaN   \n",
              "2345.0                  NaN                          NaN        NaN   \n",
              "4321.0                  NaN                          NaN        NaN   \n",
              "432.0                   NaN                          NaN        NaN   \n",
              "\n",
              "        AVG NUMBER OF WORDS PER SENTENCE  COMPLEX WORD COUNT  WORD COUNT  \\\n",
              "URL_ID                                                                     \n",
              "123.0                                NaN                 NaN         NaN   \n",
              "321.0                                NaN                 NaN         NaN   \n",
              "2345.0                               NaN                 NaN         NaN   \n",
              "4321.0                               NaN                 NaN         NaN   \n",
              "432.0                                NaN                 NaN         NaN   \n",
              "\n",
              "        SYLLABLE PER WORD  PERSONAL PRONOUNS  AVG WORD LENGTH  \n",
              "URL_ID                                                         \n",
              "123.0                 NaN                NaN              NaN  \n",
              "321.0                 NaN                NaN              NaN  \n",
              "2345.0                NaN                NaN              NaN  \n",
              "4321.0                NaN                NaN              NaN  \n",
              "432.0                 NaN                NaN              NaN  "
            ],
            "text/html": [
              "\n",
              "  <div id=\"df-f5d74cb5-459d-4ed4-b6e3-a462c850538b\" class=\"colab-df-container\">\n",
              "    <div>\n",
              "<style scoped>\n",
              "    .dataframe tbody tr th:only-of-type {\n",
              "        vertical-align: middle;\n",
              "    }\n",
              "\n",
              "    .dataframe tbody tr th {\n",
              "        vertical-align: top;\n",
              "    }\n",
              "\n",
              "    .dataframe thead th {\n",
              "        text-align: right;\n",
              "    }\n",
              "</style>\n",
              "<table border=\"1\" class=\"dataframe\">\n",
              "  <thead>\n",
              "    <tr style=\"text-align: right;\">\n",
              "      <th></th>\n",
              "      <th>URL</th>\n",
              "      <th>POSITIVE SCORE</th>\n",
              "      <th>NEGATIVE SCORE</th>\n",
              "      <th>POLARITY SCORE</th>\n",
              "      <th>SUBJECTIVITY SCORE</th>\n",
              "      <th>AVG SENTENCE LENGTH</th>\n",
              "      <th>PERCENTAGE OF COMPLEX WORDS</th>\n",
              "      <th>FOG INDEX</th>\n",
              "      <th>AVG NUMBER OF WORDS PER SENTENCE</th>\n",
              "      <th>COMPLEX WORD COUNT</th>\n",
              "      <th>WORD COUNT</th>\n",
              "      <th>SYLLABLE PER WORD</th>\n",
              "      <th>PERSONAL PRONOUNS</th>\n",
              "      <th>AVG WORD LENGTH</th>\n",
              "    </tr>\n",
              "    <tr>\n",
              "      <th>URL_ID</th>\n",
              "      <th></th>\n",
              "      <th></th>\n",
              "      <th></th>\n",
              "      <th></th>\n",
              "      <th></th>\n",
              "      <th></th>\n",
              "      <th></th>\n",
              "      <th></th>\n",
              "      <th></th>\n",
              "      <th></th>\n",
              "      <th></th>\n",
              "      <th></th>\n",
              "      <th></th>\n",
              "      <th></th>\n",
              "    </tr>\n",
              "  </thead>\n",
              "  <tbody>\n",
              "    <tr>\n",
              "      <th>123.0</th>\n",
              "      <td>https://insights.blackcoffer.com/rise-of-telem...</td>\n",
              "      <td>NaN</td>\n",
              "      <td>NaN</td>\n",
              "      <td>NaN</td>\n",
              "      <td>NaN</td>\n",
              "      <td>NaN</td>\n",
              "      <td>NaN</td>\n",
              "      <td>NaN</td>\n",
              "      <td>NaN</td>\n",
              "      <td>NaN</td>\n",
              "      <td>NaN</td>\n",
              "      <td>NaN</td>\n",
              "      <td>NaN</td>\n",
              "      <td>NaN</td>\n",
              "    </tr>\n",
              "    <tr>\n",
              "      <th>321.0</th>\n",
              "      <td>https://insights.blackcoffer.com/rise-of-e-hea...</td>\n",
              "      <td>NaN</td>\n",
              "      <td>NaN</td>\n",
              "      <td>NaN</td>\n",
              "      <td>NaN</td>\n",
              "      <td>NaN</td>\n",
              "      <td>NaN</td>\n",
              "      <td>NaN</td>\n",
              "      <td>NaN</td>\n",
              "      <td>NaN</td>\n",
              "      <td>NaN</td>\n",
              "      <td>NaN</td>\n",
              "      <td>NaN</td>\n",
              "      <td>NaN</td>\n",
              "    </tr>\n",
              "    <tr>\n",
              "      <th>2345.0</th>\n",
              "      <td>https://insights.blackcoffer.com/rise-of-e-hea...</td>\n",
              "      <td>NaN</td>\n",
              "      <td>NaN</td>\n",
              "      <td>NaN</td>\n",
              "      <td>NaN</td>\n",
              "      <td>NaN</td>\n",
              "      <td>NaN</td>\n",
              "      <td>NaN</td>\n",
              "      <td>NaN</td>\n",
              "      <td>NaN</td>\n",
              "      <td>NaN</td>\n",
              "      <td>NaN</td>\n",
              "      <td>NaN</td>\n",
              "      <td>NaN</td>\n",
              "    </tr>\n",
              "    <tr>\n",
              "      <th>4321.0</th>\n",
              "      <td>https://insights.blackcoffer.com/rise-of-telem...</td>\n",
              "      <td>NaN</td>\n",
              "      <td>NaN</td>\n",
              "      <td>NaN</td>\n",
              "      <td>NaN</td>\n",
              "      <td>NaN</td>\n",
              "      <td>NaN</td>\n",
              "      <td>NaN</td>\n",
              "      <td>NaN</td>\n",
              "      <td>NaN</td>\n",
              "      <td>NaN</td>\n",
              "      <td>NaN</td>\n",
              "      <td>NaN</td>\n",
              "      <td>NaN</td>\n",
              "    </tr>\n",
              "    <tr>\n",
              "      <th>432.0</th>\n",
              "      <td>https://insights.blackcoffer.com/rise-of-telem...</td>\n",
              "      <td>NaN</td>\n",
              "      <td>NaN</td>\n",
              "      <td>NaN</td>\n",
              "      <td>NaN</td>\n",
              "      <td>NaN</td>\n",
              "      <td>NaN</td>\n",
              "      <td>NaN</td>\n",
              "      <td>NaN</td>\n",
              "      <td>NaN</td>\n",
              "      <td>NaN</td>\n",
              "      <td>NaN</td>\n",
              "      <td>NaN</td>\n",
              "      <td>NaN</td>\n",
              "    </tr>\n",
              "  </tbody>\n",
              "</table>\n",
              "</div>\n",
              "    <div class=\"colab-df-buttons\">\n",
              "\n",
              "  <div class=\"colab-df-container\">\n",
              "    <button class=\"colab-df-convert\" onclick=\"convertToInteractive('df-f5d74cb5-459d-4ed4-b6e3-a462c850538b')\"\n",
              "            title=\"Convert this dataframe to an interactive table.\"\n",
              "            style=\"display:none;\">\n",
              "\n",
              "  <svg xmlns=\"http://www.w3.org/2000/svg\" height=\"24px\" viewBox=\"0 -960 960 960\">\n",
              "    <path d=\"M120-120v-720h720v720H120Zm60-500h600v-160H180v160Zm220 220h160v-160H400v160Zm0 220h160v-160H400v160ZM180-400h160v-160H180v160Zm440 0h160v-160H620v160ZM180-180h160v-160H180v160Zm440 0h160v-160H620v160Z\"/>\n",
              "  </svg>\n",
              "    </button>\n",
              "\n",
              "  <style>\n",
              "    .colab-df-container {\n",
              "      display:flex;\n",
              "      gap: 12px;\n",
              "    }\n",
              "\n",
              "    .colab-df-convert {\n",
              "      background-color: #E8F0FE;\n",
              "      border: none;\n",
              "      border-radius: 50%;\n",
              "      cursor: pointer;\n",
              "      display: none;\n",
              "      fill: #1967D2;\n",
              "      height: 32px;\n",
              "      padding: 0 0 0 0;\n",
              "      width: 32px;\n",
              "    }\n",
              "\n",
              "    .colab-df-convert:hover {\n",
              "      background-color: #E2EBFA;\n",
              "      box-shadow: 0px 1px 2px rgba(60, 64, 67, 0.3), 0px 1px 3px 1px rgba(60, 64, 67, 0.15);\n",
              "      fill: #174EA6;\n",
              "    }\n",
              "\n",
              "    .colab-df-buttons div {\n",
              "      margin-bottom: 4px;\n",
              "    }\n",
              "\n",
              "    [theme=dark] .colab-df-convert {\n",
              "      background-color: #3B4455;\n",
              "      fill: #D2E3FC;\n",
              "    }\n",
              "\n",
              "    [theme=dark] .colab-df-convert:hover {\n",
              "      background-color: #434B5C;\n",
              "      box-shadow: 0px 1px 3px 1px rgba(0, 0, 0, 0.15);\n",
              "      filter: drop-shadow(0px 1px 2px rgba(0, 0, 0, 0.3));\n",
              "      fill: #FFFFFF;\n",
              "    }\n",
              "  </style>\n",
              "\n",
              "    <script>\n",
              "      const buttonEl =\n",
              "        document.querySelector('#df-f5d74cb5-459d-4ed4-b6e3-a462c850538b button.colab-df-convert');\n",
              "      buttonEl.style.display =\n",
              "        google.colab.kernel.accessAllowed ? 'block' : 'none';\n",
              "\n",
              "      async function convertToInteractive(key) {\n",
              "        const element = document.querySelector('#df-f5d74cb5-459d-4ed4-b6e3-a462c850538b');\n",
              "        const dataTable =\n",
              "          await google.colab.kernel.invokeFunction('convertToInteractive',\n",
              "                                                    [key], {});\n",
              "        if (!dataTable) return;\n",
              "\n",
              "        const docLinkHtml = 'Like what you see? Visit the ' +\n",
              "          '<a target=\"_blank\" href=https://colab.research.google.com/notebooks/data_table.ipynb>data table notebook</a>'\n",
              "          + ' to learn more about interactive tables.';\n",
              "        element.innerHTML = '';\n",
              "        dataTable['output_type'] = 'display_data';\n",
              "        await google.colab.output.renderOutput(dataTable, element);\n",
              "        const docLink = document.createElement('div');\n",
              "        docLink.innerHTML = docLinkHtml;\n",
              "        element.appendChild(docLink);\n",
              "      }\n",
              "    </script>\n",
              "  </div>\n",
              "\n",
              "\n",
              "<div id=\"df-fa9e5445-96f7-4f21-93c4-18b01c21304b\">\n",
              "  <button class=\"colab-df-quickchart\" onclick=\"quickchart('df-fa9e5445-96f7-4f21-93c4-18b01c21304b')\"\n",
              "            title=\"Suggest charts.\"\n",
              "            style=\"display:none;\">\n",
              "\n",
              "<svg xmlns=\"http://www.w3.org/2000/svg\" height=\"24px\"viewBox=\"0 0 24 24\"\n",
              "     width=\"24px\">\n",
              "    <g>\n",
              "        <path d=\"M19 3H5c-1.1 0-2 .9-2 2v14c0 1.1.9 2 2 2h14c1.1 0 2-.9 2-2V5c0-1.1-.9-2-2-2zM9 17H7v-7h2v7zm4 0h-2V7h2v10zm4 0h-2v-4h2v4z\"/>\n",
              "    </g>\n",
              "</svg>\n",
              "  </button>\n",
              "\n",
              "<style>\n",
              "  .colab-df-quickchart {\n",
              "      --bg-color: #E8F0FE;\n",
              "      --fill-color: #1967D2;\n",
              "      --hover-bg-color: #E2EBFA;\n",
              "      --hover-fill-color: #174EA6;\n",
              "      --disabled-fill-color: #AAA;\n",
              "      --disabled-bg-color: #DDD;\n",
              "  }\n",
              "\n",
              "  [theme=dark] .colab-df-quickchart {\n",
              "      --bg-color: #3B4455;\n",
              "      --fill-color: #D2E3FC;\n",
              "      --hover-bg-color: #434B5C;\n",
              "      --hover-fill-color: #FFFFFF;\n",
              "      --disabled-bg-color: #3B4455;\n",
              "      --disabled-fill-color: #666;\n",
              "  }\n",
              "\n",
              "  .colab-df-quickchart {\n",
              "    background-color: var(--bg-color);\n",
              "    border: none;\n",
              "    border-radius: 50%;\n",
              "    cursor: pointer;\n",
              "    display: none;\n",
              "    fill: var(--fill-color);\n",
              "    height: 32px;\n",
              "    padding: 0;\n",
              "    width: 32px;\n",
              "  }\n",
              "\n",
              "  .colab-df-quickchart:hover {\n",
              "    background-color: var(--hover-bg-color);\n",
              "    box-shadow: 0 1px 2px rgba(60, 64, 67, 0.3), 0 1px 3px 1px rgba(60, 64, 67, 0.15);\n",
              "    fill: var(--button-hover-fill-color);\n",
              "  }\n",
              "\n",
              "  .colab-df-quickchart-complete:disabled,\n",
              "  .colab-df-quickchart-complete:disabled:hover {\n",
              "    background-color: var(--disabled-bg-color);\n",
              "    fill: var(--disabled-fill-color);\n",
              "    box-shadow: none;\n",
              "  }\n",
              "\n",
              "  .colab-df-spinner {\n",
              "    border: 2px solid var(--fill-color);\n",
              "    border-color: transparent;\n",
              "    border-bottom-color: var(--fill-color);\n",
              "    animation:\n",
              "      spin 1s steps(1) infinite;\n",
              "  }\n",
              "\n",
              "  @keyframes spin {\n",
              "    0% {\n",
              "      border-color: transparent;\n",
              "      border-bottom-color: var(--fill-color);\n",
              "      border-left-color: var(--fill-color);\n",
              "    }\n",
              "    20% {\n",
              "      border-color: transparent;\n",
              "      border-left-color: var(--fill-color);\n",
              "      border-top-color: var(--fill-color);\n",
              "    }\n",
              "    30% {\n",
              "      border-color: transparent;\n",
              "      border-left-color: var(--fill-color);\n",
              "      border-top-color: var(--fill-color);\n",
              "      border-right-color: var(--fill-color);\n",
              "    }\n",
              "    40% {\n",
              "      border-color: transparent;\n",
              "      border-right-color: var(--fill-color);\n",
              "      border-top-color: var(--fill-color);\n",
              "    }\n",
              "    60% {\n",
              "      border-color: transparent;\n",
              "      border-right-color: var(--fill-color);\n",
              "    }\n",
              "    80% {\n",
              "      border-color: transparent;\n",
              "      border-right-color: var(--fill-color);\n",
              "      border-bottom-color: var(--fill-color);\n",
              "    }\n",
              "    90% {\n",
              "      border-color: transparent;\n",
              "      border-bottom-color: var(--fill-color);\n",
              "    }\n",
              "  }\n",
              "</style>\n",
              "\n",
              "  <script>\n",
              "    async function quickchart(key) {\n",
              "      const quickchartButtonEl =\n",
              "        document.querySelector('#' + key + ' button');\n",
              "      quickchartButtonEl.disabled = true;  // To prevent multiple clicks.\n",
              "      quickchartButtonEl.classList.add('colab-df-spinner');\n",
              "      try {\n",
              "        const charts = await google.colab.kernel.invokeFunction(\n",
              "            'suggestCharts', [key], {});\n",
              "      } catch (error) {\n",
              "        console.error('Error during call to suggestCharts:', error);\n",
              "      }\n",
              "      quickchartButtonEl.classList.remove('colab-df-spinner');\n",
              "      quickchartButtonEl.classList.add('colab-df-quickchart-complete');\n",
              "    }\n",
              "    (() => {\n",
              "      let quickchartButtonEl =\n",
              "        document.querySelector('#df-fa9e5445-96f7-4f21-93c4-18b01c21304b button');\n",
              "      quickchartButtonEl.style.display =\n",
              "        google.colab.kernel.accessAllowed ? 'block' : 'none';\n",
              "    })();\n",
              "  </script>\n",
              "</div>\n",
              "    </div>\n",
              "  </div>\n"
            ]
          },
          "metadata": {},
          "execution_count": 110
        }
      ]
    },
    {
      "cell_type": "code",
      "source": [
        "df.columns"
      ],
      "metadata": {
        "colab": {
          "base_uri": "https://localhost:8080/"
        },
        "id": "SqFmmO15XtF_",
        "outputId": "209a0f15-e14b-49e2-efe5-d5babd83377d"
      },
      "execution_count": 111,
      "outputs": [
        {
          "output_type": "execute_result",
          "data": {
            "text/plain": [
              "Index(['URL', 'POSITIVE SCORE', 'NEGATIVE SCORE', 'POLARITY SCORE',\n",
              "       'SUBJECTIVITY SCORE', 'AVG SENTENCE LENGTH',\n",
              "       'PERCENTAGE OF COMPLEX WORDS', 'FOG INDEX',\n",
              "       'AVG NUMBER OF WORDS PER SENTENCE', 'COMPLEX WORD COUNT', 'WORD COUNT',\n",
              "       'SYLLABLE PER WORD', 'PERSONAL PRONOUNS', 'AVG WORD LENGTH'],\n",
              "      dtype='object')"
            ]
          },
          "metadata": {},
          "execution_count": 111
        }
      ]
    },
    {
      "cell_type": "code",
      "source": [
        "for url_id in df.index:\n",
        "    if url_id not in [11668, 17671.4 ]:\n",
        "\n",
        "        sent, words = generate_content(url_id)\n",
        "        pos_score = sum([1 for w in words if w in Pos_words])\n",
        "        neg_score = sum([1 for w in words if w in Neg_words])\n",
        "        Syllable_per_word , complex_count, complex_percentage, fog_index = AvgSyllable(words)\n",
        "        pronouns_count = Calculate_pronouns(sent)\n",
        "\n",
        "\n",
        "        # The code snippet is assigning values to various columns in a DataFrame `df` based\n",
        "        # on the calculations and assignments performed in the above code.\n",
        "\n",
        "        df[\"POSITIVE SCORE\"][url_id] =  pos_score\n",
        "        df[\"NEGATIVE SCORE\"][url_id] = neg_score\n",
        "        df[\"POLARITY SCORE\"][url_id] = (pos_score - neg_score)/(pos_score + neg_score + 0.000001)\n",
        "        df['SUBJECTIVITY SCORE'][url_id] = (pos_score + neg_score)/(len(words)+0.000001)\n",
        "        df['AVG SENTENCE LENGTH'][url_id] = len(words)/len(sent)\n",
        "        df['PERCENTAGE OF COMPLEX WORDS'][url_id] = complex_percentage\n",
        "        df['FOG INDEX'][url_id] = fog_index\n",
        "        df['AVG NUMBER OF WORDS PER SENTENCE'][url_id] = len(words)/len(sent)\n",
        "        df['COMPLEX WORD COUNT'][url_id] = complex_count\n",
        "        df[\"WORD COUNT\"][url_id] = len(words)\n",
        "        df['SYLLABLE PER WORD'][url_id] = Syllable_per_word\n",
        "        df['PERSONAL PRONOUNS'][url_id] = pronouns_count\n",
        "        df['AVG WORD LENGTH'][url_id] = sum([len(w) for w in words])/len(words)"
      ],
      "metadata": {
        "id": "IYDxCsLNXxeL"
      },
      "execution_count": 112,
      "outputs": []
    },
    {
      "cell_type": "code",
      "source": [
        "df.isnull().sum()"
      ],
      "metadata": {
        "colab": {
          "base_uri": "https://localhost:8080/"
        },
        "id": "zRyMk2wcbAWX",
        "outputId": "0bc642cd-7b8c-4414-8036-22cba9f73127"
      },
      "execution_count": 118,
      "outputs": [
        {
          "output_type": "execute_result",
          "data": {
            "text/plain": [
              "URL                                 0\n",
              "POSITIVE SCORE                      2\n",
              "NEGATIVE SCORE                      2\n",
              "POLARITY SCORE                      2\n",
              "SUBJECTIVITY SCORE                  2\n",
              "AVG SENTENCE LENGTH                 2\n",
              "PERCENTAGE OF COMPLEX WORDS         2\n",
              "FOG INDEX                           2\n",
              "AVG NUMBER OF WORDS PER SENTENCE    2\n",
              "COMPLEX WORD COUNT                  2\n",
              "WORD COUNT                          2\n",
              "SYLLABLE PER WORD                   2\n",
              "PERSONAL PRONOUNS                   2\n",
              "AVG WORD LENGTH                     2\n",
              "dtype: int64"
            ]
          },
          "metadata": {},
          "execution_count": 118
        }
      ]
    },
    {
      "cell_type": "code",
      "source": [
        "df = df.dropna()"
      ],
      "metadata": {
        "id": "r4TTR6fIbS2V"
      },
      "execution_count": 119,
      "outputs": []
    },
    {
      "cell_type": "code",
      "source": [
        "df.isnull().sum()"
      ],
      "metadata": {
        "colab": {
          "base_uri": "https://localhost:8080/"
        },
        "id": "n8mgkqK7bCit",
        "outputId": "74cf9cc2-d813-433f-f85c-de4cd1c2d0cf"
      },
      "execution_count": 122,
      "outputs": [
        {
          "output_type": "execute_result",
          "data": {
            "text/plain": [
              "URL                                 0\n",
              "POSITIVE SCORE                      0\n",
              "NEGATIVE SCORE                      0\n",
              "POLARITY SCORE                      0\n",
              "SUBJECTIVITY SCORE                  0\n",
              "AVG SENTENCE LENGTH                 0\n",
              "PERCENTAGE OF COMPLEX WORDS         0\n",
              "FOG INDEX                           0\n",
              "AVG NUMBER OF WORDS PER SENTENCE    0\n",
              "COMPLEX WORD COUNT                  0\n",
              "WORD COUNT                          0\n",
              "SYLLABLE PER WORD                   0\n",
              "PERSONAL PRONOUNS                   0\n",
              "AVG WORD LENGTH                     0\n",
              "dtype: int64"
            ]
          },
          "metadata": {},
          "execution_count": 122
        }
      ]
    },
    {
      "cell_type": "code",
      "source": [
        "df.to_excel(\"Output Data.xlsx\")"
      ],
      "metadata": {
        "id": "XDh4KOnochl_"
      },
      "execution_count": 123,
      "outputs": []
    },
    {
      "cell_type": "code",
      "source": [
        "df.to_csv(\"Output_Data.csv\")"
      ],
      "metadata": {
        "id": "AhKXavIpc9sn"
      },
      "execution_count": 124,
      "outputs": []
    },
    {
      "cell_type": "code",
      "source": [],
      "metadata": {
        "id": "bz6e9ZtgdBxr"
      },
      "execution_count": null,
      "outputs": []
    }
  ]
}